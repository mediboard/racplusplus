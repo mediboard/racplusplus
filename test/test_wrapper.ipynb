{
 "cells": [
  {
   "cell_type": "code",
   "execution_count": 6,
   "source": [
    "import sys\n",
    "import os\n",
    "import pybind11\n",
    "\n",
    "# Append the parent directory of racplusplus package to system path\n",
    "sys.path.append(os.path.join(os.getcwd(), \"..\", \"build\"))\n",
    "print(sys.path)\n",
    "print(sys.version)\n",
    "\n",
    "import numpy as np\n",
    "import racplusplus"
   ],
   "outputs": [
    {
     "output_type": "stream",
     "name": "stdout",
     "text": [
      "['/Users/danielfrees/Desktop/racplusplus/test', '/Users/danielfrees/.vscode/extensions/ms-toolsai.jupyter-2021.8.2041215044/pythonFiles', '/Users/danielfrees/.vscode/extensions/ms-toolsai.jupyter-2021.8.2041215044/pythonFiles/lib/python', '/Users/danielfrees/miniconda3/envs/racplusplus/lib/python311.zip', '/Users/danielfrees/miniconda3/envs/racplusplus/lib/python3.11', '/Users/danielfrees/miniconda3/envs/racplusplus/lib/python3.11/lib-dynload', '', '/Users/danielfrees/miniconda3/envs/racplusplus/lib/python3.11/site-packages', '/Users/danielfrees/Desktop/racplusplus/test', '/Users/danielfrees/Desktop/racplusplus/test/build/racplusplus', '/Users/danielfrees/Desktop/racplusplus/test/build/racplusplus', '/Users/danielfrees/Desktop/racplusplus/test/../build/racplusplus', '/Users/danielfrees/Desktop/racplusplus/test/../build']\n",
      "3.11.3 (main, Apr 19 2023, 18:51:09) [Clang 14.0.6 ]\n"
     ]
    }
   ],
   "metadata": {}
  },
  {
   "cell_type": "code",
   "execution_count": 2,
   "source": [
    "import psutil\n",
    "# Get the current process ID (PID) of the Jupyter kernel\n",
    "pid = psutil.Process().pid\n",
    "# Get the memory information for the Jupyter kernel process\n",
    "process = psutil.Process(pid)\n",
    "memory_info = process.memory_info()\n",
    "# Print the current memory size in bytes\n",
    "print(\"Current memory size:\", memory_info.rss, \"bytes\")\n",
    "# Alternatively, print the memory size in a more human-readable format\n",
    "print(\"Current memory size:\", psutil._common.bytes2human(memory_info.rss))\n"
   ],
   "outputs": [
    {
     "output_type": "stream",
     "name": "stdout",
     "text": [
      "Current memory size: 71671808 bytes\n",
      "Current memory size: 68.4M\n",
      "Maximum allotted memory: 71671808 bytes\n"
     ]
    }
   ],
   "metadata": {}
  },
  {
   "cell_type": "code",
   "execution_count": 7,
   "source": [
    "racplusplus.stupid_pybind_test()"
   ],
   "outputs": [
    {
     "output_type": "stream",
     "name": "stdout",
     "text": [
      "this is a pybind test.\n"
     ]
    }
   ],
   "metadata": {}
  },
  {
   "cell_type": "code",
   "execution_count": null,
   "source": [
    "racplusplus.test_rac()"
   ],
   "outputs": [
    {
     "output_type": "error",
     "ename": "Error",
     "evalue": "Session cannot generate requests",
     "traceback": [
      "Error: Session cannot generate requests",
      "at w.executeCodeCell (/Users/danielfrees/.vscode/extensions/ms-toolsai.jupyter-2021.8.2041215044/out/client/extension.js:52:301310)",
      "at w.execute (/Users/danielfrees/.vscode/extensions/ms-toolsai.jupyter-2021.8.2041215044/out/client/extension.js:52:300703)",
      "at w.start (/Users/danielfrees/.vscode/extensions/ms-toolsai.jupyter-2021.8.2041215044/out/client/extension.js:52:296367)",
      "at processTicksAndRejections (internal/process/task_queues.js:93:5)",
      "at async t.CellExecutionQueue.executeQueuedCells (/Users/danielfrees/.vscode/extensions/ms-toolsai.jupyter-2021.8.2041215044/out/client/extension.js:52:311160)",
      "at async t.CellExecutionQueue.start (/Users/danielfrees/.vscode/extensions/ms-toolsai.jupyter-2021.8.2041215044/out/client/extension.js:52:310700)"
     ]
    }
   ],
   "metadata": {}
  },
  {
   "cell_type": "code",
   "execution_count": null,
   "source": [],
   "outputs": [],
   "metadata": {}
  }
 ],
 "metadata": {
  "orig_nbformat": 4,
  "language_info": {
   "name": "python",
   "version": "3.11.3",
   "mimetype": "text/x-python",
   "codemirror_mode": {
    "name": "ipython",
    "version": 3
   },
   "pygments_lexer": "ipython3",
   "nbconvert_exporter": "python",
   "file_extension": ".py"
  },
  "kernelspec": {
   "name": "python3",
   "display_name": "Python 3.11.3 64-bit ('racplusplus': conda)"
  },
  "interpreter": {
   "hash": "b63813d25551306d4e09ad29021fc2d88194acfbaa9625015bea807ad2e643ab"
  }
 },
 "nbformat": 4,
 "nbformat_minor": 2
}